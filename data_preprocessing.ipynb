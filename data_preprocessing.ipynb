{
 "cells": [
  {
   "cell_type": "markdown",
   "metadata": {},
   "source": [
    "<h1 style=\"font-family: Roboto\">Data preprocessing</h1>\n",
    "\n",
    "This notebook downloads a subset of the Amazon Reviews dataset consisting of product ratings in the *Appliances* subcategory and prepares it for training, splits it into train and test sets, and puts it on S3.\n",
    "\n",
    "Information about the dataset can be found at https://nijianmo.github.io/amazon/index.html."
   ]
  },
  {
   "cell_type": "markdown",
   "metadata": {},
   "source": [
    "<h2>Config</h2>\n",
    "\n",
    "Let us configure some parameters here at the top. You can change the bucket name to make sure it is unique."
   ]
  },
  {
   "cell_type": "code",
   "execution_count": 5,
   "metadata": {},
   "outputs": [],
   "source": [
    "from config import config\n",
    "DATA_URL  = \"http://deepyeti.ucsd.edu/jianmo/amazon/categoryFilesSmall/Appliances.csv\"\n",
    "S3_BUCKET = config['AWS']['S3_BUCKET']"
   ]
  },
  {
   "cell_type": "markdown",
   "metadata": {},
   "source": [
    "<h2>Downloading</h2>\n",
    "\n",
    "Now we download the dataset from the URL. It is stored into a temporary file where the notebook is running"
   ]
  },
  {
   "cell_type": "code",
   "execution_count": 2,
   "metadata": {},
   "outputs": [],
   "source": [
    "from urllib.request import urlretrieve\n",
    "\n",
    "filename, _ = urlretrieve(DATA_URL)"
   ]
  },
  {
   "cell_type": "markdown",
   "metadata": {},
   "source": [
    "<h2>Load the data with Pandas</h2>\n",
    "\n",
    "Now we load the comma-separated data into a Pandas dataframe. The data is in a *tall* format. See explanation of tall and wide data formats here: https://en.wikipedia.org/wiki/Wide_and_narrow_data. Wide data is also referred to as *tidy* data."
   ]
  },
  {
   "cell_type": "code",
   "execution_count": 3,
   "metadata": {},
   "outputs": [
    {
     "data": {
      "text/html": [
       "<div>\n",
       "<style scoped>\n",
       "    .dataframe tbody tr th:only-of-type {\n",
       "        vertical-align: middle;\n",
       "    }\n",
       "\n",
       "    .dataframe tbody tr th {\n",
       "        vertical-align: top;\n",
       "    }\n",
       "\n",
       "    .dataframe thead th {\n",
       "        text-align: right;\n",
       "    }\n",
       "</style>\n",
       "<table border=\"1\" class=\"dataframe\">\n",
       "  <thead>\n",
       "    <tr style=\"text-align: right;\">\n",
       "      <th></th>\n",
       "      <th>item</th>\n",
       "      <th>user</th>\n",
       "      <th>rating</th>\n",
       "    </tr>\n",
       "  </thead>\n",
       "  <tbody>\n",
       "    <tr>\n",
       "      <th>0</th>\n",
       "      <td>1118461304</td>\n",
       "      <td>A3NHUQ33CFH3VM</td>\n",
       "      <td>5.0</td>\n",
       "    </tr>\n",
       "    <tr>\n",
       "      <th>1</th>\n",
       "      <td>1118461304</td>\n",
       "      <td>A3SK6VNBQDNBJE</td>\n",
       "      <td>5.0</td>\n",
       "    </tr>\n",
       "    <tr>\n",
       "      <th>2</th>\n",
       "      <td>1118461304</td>\n",
       "      <td>A3SOFHUR27FO3K</td>\n",
       "      <td>5.0</td>\n",
       "    </tr>\n",
       "    <tr>\n",
       "      <th>3</th>\n",
       "      <td>1118461304</td>\n",
       "      <td>A1HOG1PYCAE157</td>\n",
       "      <td>5.0</td>\n",
       "    </tr>\n",
       "    <tr>\n",
       "      <th>4</th>\n",
       "      <td>1118461304</td>\n",
       "      <td>A26JGAM6GZMM4V</td>\n",
       "      <td>5.0</td>\n",
       "    </tr>\n",
       "  </tbody>\n",
       "</table>\n",
       "</div>"
      ],
      "text/plain": [
       "         item            user  rating\n",
       "0  1118461304  A3NHUQ33CFH3VM     5.0\n",
       "1  1118461304  A3SK6VNBQDNBJE     5.0\n",
       "2  1118461304  A3SOFHUR27FO3K     5.0\n",
       "3  1118461304  A1HOG1PYCAE157     5.0\n",
       "4  1118461304  A26JGAM6GZMM4V     5.0"
      ]
     },
     "execution_count": 3,
     "metadata": {},
     "output_type": "execute_result"
    }
   ],
   "source": [
    "import pandas as pd\n",
    "\n",
    "data = pd.read_csv(filename,\n",
    "                   names=[\"item\", \"user\", \"rating\", \"timestamp\"])\n",
    "\n",
    "data.drop(\"timestamp\", axis=1, inplace=True)\n",
    "\n",
    "# Let's see what the data frame looks like\n",
    "data.head()"
   ]
  },
  {
   "cell_type": "markdown",
   "metadata": {},
   "source": [
    "<h2>Data cleaning</h2>\n",
    "\n",
    "Some additional data cleaning is required by the downstream algorithms"
   ]
  },
  {
   "cell_type": "code",
   "execution_count": 4,
   "metadata": {},
   "outputs": [],
   "source": [
    "# Drop duplicate ratings for a user\n",
    "data = data.drop_duplicates(['item', 'user'])"
   ]
  },
  {
   "cell_type": "markdown",
   "metadata": {},
   "source": [
    "<h2> Train/Test split </h2>\n",
    "\n",
    "We now split the dataset randomly in half into a training dataset used to fit the models and a test set used to evaluate and compare them."
   ]
  },
  {
   "cell_type": "code",
   "execution_count": 5,
   "metadata": {},
   "outputs": [],
   "source": [
    "from sklearn.model_selection import train_test_split\n",
    "\n",
    "train_data, test_data = train_test_split(data, train_size=0.5)\n",
    "\n",
    "train_data.reset_index(inplace=True, drop=True)\n",
    "test_data.reset_index(inplace=True, drop=True)"
   ]
  },
  {
   "cell_type": "markdown",
   "metadata": {},
   "source": [
    "<h2> Upload to S3 </h2>\n",
    "\n",
    "Finally we upload the data to AWS S3 using the <span style=\"font-family: 'Courier New', monospace;\">boto3</span> Python interface to the AWS API."
   ]
  },
  {
   "cell_type": "code",
   "execution_count": 8,
   "metadata": {},
   "outputs": [],
   "source": [
    "import boto3\n",
    "\n",
    "s3 = boto3.client('s3')\n",
    "\n",
    "location = {'LocationConstraint': 'eu-west-2'}\n",
    "s3.create_bucket(Bucket                    = S3_BUCKET,\n",
    "                 CreateBucketConfiguration = location )\n",
    "\n",
    "def upload_data(dataset, datakey):\n",
    "    \"\"\"Helper function to upload a dataframe to an S3 Bucket\n",
    "    \"\"\"\n",
    "    s3.put_object(Body   = dataset.to_csv(index=False),\n",
    "                  Bucket = S3_BUCKET,\n",
    "                  Key    = datakey)\n",
    "\n",
    "\n",
    "upload_data(train_data, 'train_ratings')\n",
    "upload_data(test_data,   'test_ratings')"
   ]
  }
 ],
 "metadata": {
  "kernelspec": {
   "display_name": "Python 3",
   "language": "python",
   "name": "python3"
  },
  "language_info": {
   "codemirror_mode": {
    "name": "ipython",
    "version": 3
   },
   "file_extension": ".py",
   "mimetype": "text/x-python",
   "name": "python",
   "nbconvert_exporter": "python",
   "pygments_lexer": "ipython3",
   "version": "3.8.5"
  }
 },
 "nbformat": 4,
 "nbformat_minor": 4
}
